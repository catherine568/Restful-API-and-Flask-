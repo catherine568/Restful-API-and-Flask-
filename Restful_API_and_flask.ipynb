{
  "nbformat": 4,
  "nbformat_minor": 0,
  "metadata": {
    "colab": {
      "provenance": []
    },
    "kernelspec": {
      "name": "python3",
      "display_name": "Python 3"
    },
    "language_info": {
      "name": "python"
    }
  },
  "cells": [
    {
      "cell_type": "code",
      "execution_count": null,
      "metadata": {
        "id": "LGHYQKK9duHh"
      },
      "outputs": [],
      "source": []
    },
    {
      "cell_type": "markdown",
      "source": [
        "THOERY QUESTIONS:\n",
        "\n",
        "1.What is a RESTful API?\n",
        " - RESTful APIs are also referred to as RESTful web services and REST APIs. They're based on representational state transfer, an architectural style and approach to communications often used in web services development. This approach can also facilitate communication between other application types.\n",
        "\n",
        "2.Explain the concept of API specification\n",
        " - An API specification provides a broad understanding of how an API behaves and how the API links with other APIs. It explains how the API functions and the results to expect when using the API. A good example of an API specification is the OpenAPI Specification.\n",
        "\n",
        "3.What is Flask, and why is it popular for building APIs?\n",
        " - Flask is a lightweight and flexible web framework for Python. It's designed to make getting started with web development quick and easy, while still being powerful enough to build complex web applications. It is an API of Python that allows us to build web applications.\n",
        "\n",
        "4.What is routing in Flask?\n",
        " - routes in Flask are the glue that connects specific URL paths to their corresponding view functions. They provide a straightforward way to define the behavior of a web application, making it easier for developers to build and maintain their projects.\n",
        "\n",
        "5.How do you create a simple Flask application?\n",
        " - First we imported the Flask class. An instance of this class will be our WSGI application.\n",
        "Next we create an instance of this class. ...\n",
        "We then use the route() decorator to tell Flask what URL should trigger our function.\n",
        "The function returns the message we want to display in the user's browser.\n",
        "\n",
        "6.What are HTTP methods used in RESTful APIs?\n",
        " - HTTP methods such as GET, POST, PUT, PATCH, and DELETE are used in RESTful API development to specify the type of action being performed on a resource. RESTful HTTP methods are an essential component of developing web APIs in the REST architectural style.\n",
        "\n",
        "7.What is the purpose of the @app.route() decorator in Flask?\n",
        " - A common example of a Flask decorator is @app. route('/') , which defines routes. This decorator transforms a function into a route that can be accessed via a browser without explicitly calling the function in your code.\n",
        "\n",
        "8.What is the difference between GET and POST HTTP methods?\n",
        " - use GET when you want to retrieve data and use POST when you want to submit data. GET is often used for simple data retrieval, like fetching a web page, while POST is used for more complex operations, such as submitting a form or uploading a file. Apidog is an all-in-one API tool.\n",
        "\n",
        "9.How do you handle errors in Flask APIs?\n",
        " - This can be done by registering error handlers. When Flask catches an exception while handling a request, it is first looked up by code. If no handler is registered for the code, Flask looks up the error by its class hierarchy; the most specific handler is chosen.\n",
        "\n",
        "10.How do you connect Flask to a SQL database?\n",
        " - Setting Up SQLAlchemy\n",
        "To create a database we need to import SQLAlchemy in app.py, set up SQLite configuration, and create a database instance as shown below. We set up Flask, connect it to a SQLite database (site. db), and use db. create_all() to create the database when the app runs.\n",
        "\n",
        "11.What is the role of Flask-SQLAlchemy?\n",
        " - Flask-SQLAlchemy is a Flask extension that makes using SQLAlchemy with Flask easier, providing you tools and methods to interact with your database in your Flask applications through SQLAlchemy. In this tutorial, you'll build a small student management system that demonstrates how to use the Flask-SQLAlchemy extension.\n",
        "\n",
        "12.What are Flask blueprints, and how are they useful?\n",
        " - Each Flask Blueprint is an object that works very similarly to a Flask application. They both can have resources, such as static files, templates, and views that are associated with routes. However, a Flask Blueprint is not actually an application. It needs to be registered in an application before you can run it.\n",
        "\n",
        "13.What is the purpose of Flask's request object?\n",
        " - The Flask Request Object is used to perform both sending and receiving operations from a user's browser to the server and process the request data from the server. It should be imported from the flask module.\n",
        "\n",
        "14.How do you create a RESTful API endpoint using Flask?\n",
        " - Creating an API using this library is easy, straightforward, and only requires the following basic steps.\n",
        "1. Initialize your new Python application. ...\n",
        "2. Create a Flask web server. ...\n",
        "3. Add API routes and return JSON data. ...\n",
        "4. Run your API web server.  \n",
        "\n",
        "15.What is the purpose of Flask's jsonify() function?\n",
        " - The jsonify() function is useful in Flask apps because it automatically sets the correct response headers and content type for JSON responses, and allows you to easily return JSON-formatted data from your route handlers. This makes it easier and more convenient to create APIs that return JSON data.\n",
        "\n",
        "16.Explain Flask’s url_for() function.\n",
        " - url_for in Flask is used for creating a URL to prevent the overhead of having to change URLs throughout an application (including in templates). Without url_for , if there is a change in the root URL of your app then you have to change it in every page where the link is present.\n",
        "\n",
        "17.How does Flask handle static files (CSS, JavaScript, etc.)?\n",
        " - In Flask, static files refer to files such as CSS, JavaScript, images, videos, and audio files that do not change dynamically. Flask provides a built-in way to serve these static files using the /static directory.\n",
        "\n",
        "18.What is an API specification, and how does it help in building a Flask API?\n",
        " - APIFlask is a lightweight Python web API framework based on Flask and marshmallow-code projects. Flask makes building REST APIs easy, handling requests like GET, POST, PUT and DELETE. With Flask-RESTful or simple routes, you can send and receive JSON data, manage authentication and secure your API.\n",
        "\n",
        "19.What are HTTP status codes, and why are they important in a Flask API?\n",
        " - HTTP status codes are three-digit codes that indicate the outcome of an API request. They are included in the API's response to the API client, and they include important information that helps the client know how to proceed.These status codes (also called response status codes) serve as a means of communication between the server and the internet browser and there are multiple code classes based on the type of information they are communicating.HTTP status codes the server can generate in response to an HTTP POST or HTTP GET request: 200 OK : Successful request. 400 Bad Request : Invalid argument (invalid request payload). 403 Forbidden : Permission denied (e.g. invalid API key).\n",
        "\n",
        "20.How do you handle POST requests in Flask?\n",
        " - The @app. route(\"/login\", methods=[\"POST\", \"GET\"]) decorator defines a route that handles requests to the /login URL. It specifies that it accepts both POST (for submitting login form) and GET (for displaying the login page) methods.\n",
        "\n",
        "21.How would you secure a Flask API?\n",
        " - To protect your APIs built with Flask, it is essential to address several key security aspects: Use HTTPS: Employing HTTPS encrypts data in transit, preventing unauthorized access and mitigating the risk of man-in-the-middle attacks.\n",
        " - Create a Python API.\n",
        " - Integrate the Security Library.\n",
        " - Validate JWTs.\n",
        " - Use Scopes and Claims.\n",
        " - Test the API.\n",
        " - Other Library Options.\n",
        "\n",
        "\n",
        "22.What is the significance of the Flask-RESTful extension?\n",
        " - Flask-RESTful stands out as a powerful and flexible extension for building RESTful APIs with Python. Its resource-oriented design, intuitive request parsing, and seamless integration with Flask make it an excellent choice for developers looking to create efficient and scalable APIs.\n",
        "\n",
        "\n",
        "23.What is the role of Flask’s session object?\n",
        " - session object in Flask is used to maintain sessions. A dictionary-like interface, (which is a python inbuilt type) is provided by the session object for storing and retrieving user-specific information.\n",
        "\n",
        "\n",
        "\n"
      ],
      "metadata": {
        "id": "OZNIoi6IeLwx"
      }
    },
    {
      "cell_type": "markdown",
      "source": [
        "PRACTICAL QUESTIONS:\n"
      ],
      "metadata": {
        "id": "Vief5m6r9oMW"
      }
    },
    {
      "cell_type": "code",
      "source": [
        "1. #How do you create a basic Flask application\n",
        "\n",
        "from flask import Flask\n",
        "\n",
        "app = Flask(__name__)\n",
        "\n",
        "@app.route(\"/\")\n",
        "def hello_world():\n",
        "  return \"<p>Hello, World!</p>\"\n",
        "\n",
        "if __name__ == \"__main__\":\n",
        "  app.run(debug=True)\n"
      ],
      "metadata": {
        "colab": {
          "base_uri": "https://localhost:8080/"
        },
        "id": "hBamiBTz9sqg",
        "outputId": "2a4cab1e-e932-4476-e6a5-196400c3d1ff"
      },
      "execution_count": 1,
      "outputs": [
        {
          "output_type": "stream",
          "name": "stdout",
          "text": [
            " * Serving Flask app '__main__'\n",
            " * Debug mode: on\n"
          ]
        },
        {
          "output_type": "stream",
          "name": "stderr",
          "text": [
            "INFO:werkzeug:\u001b[31m\u001b[1mWARNING: This is a development server. Do not use it in a production deployment. Use a production WSGI server instead.\u001b[0m\n",
            " * Running on http://127.0.0.1:5000\n",
            "INFO:werkzeug:\u001b[33mPress CTRL+C to quit\u001b[0m\n",
            "INFO:werkzeug: * Restarting with stat\n"
          ]
        }
      ]
    },
    {
      "cell_type": "code",
      "source": [
        "2. #How do you serve static files like images or CSS in Flask\n",
        "\n",
        "from flask import Flask, send_from_directory\n",
        "\n",
        "app = Flask(__name__)\n",
        "\n",
        "# Serve static files from the 'static' directory\n",
        "@app.route('/static/<path:filename>')\n",
        "def serve_static(filename):\n",
        "    return send_from_directory('static', filename)\n",
        "\n",
        "\n",
        "@app.route(\"/\")\n",
        "def hello_world():\n",
        "  return \"<p>Hello, World!</p>\"\n",
        "\n",
        "if __name__ == \"__main__\":\n",
        "  app.run(debug=True)\n"
      ],
      "metadata": {
        "colab": {
          "base_uri": "https://localhost:8080/"
        },
        "id": "m4SD4JQK-lrO",
        "outputId": "473d9961-d351-4011-a80b-1ee1a9f8f5c8"
      },
      "execution_count": null,
      "outputs": [
        {
          "output_type": "stream",
          "name": "stdout",
          "text": [
            " * Serving Flask app '__main__'\n",
            " * Debug mode: on\n"
          ]
        },
        {
          "output_type": "stream",
          "name": "stderr",
          "text": [
            "INFO:werkzeug:\u001b[31m\u001b[1mWARNING: This is a development server. Do not use it in a production deployment. Use a production WSGI server instead.\u001b[0m\n",
            " * Running on http://127.0.0.1:5000\n",
            "INFO:werkzeug:\u001b[33mPress CTRL+C to quit\u001b[0m\n",
            "INFO:werkzeug: * Restarting with stat\n"
          ]
        }
      ]
    },
    {
      "cell_type": "code",
      "source": [
        "3. #How do you define different routes with different HTTP methods in Flask\n",
        "\n",
        "from flask import Flask, request\n",
        "\n",
        "app = Flask(__name__)\n",
        "\n",
        "@app.route('/users', methods=['GET', 'POST'])\n",
        "def users():\n",
        "    if request.method == 'GET':\n",
        "        # Handle GET request (e.g., retrieve all users)\n",
        "        return \"GET request to /users\"  # Replace with actual logic\n",
        "    elif request.method == 'POST':\n",
        "        # Handle POST request (e.g., create a new user)\n",
        "        return \"POST request to /users\"  # Replace with actual logic\n",
        "\n",
        "@app.route('/users/<int:user_id>', methods=['GET', 'PUT', 'DELETE'])\n",
        "def user(user_id):\n",
        "    if request.method == 'GET':\n",
        "        # Handle GET request for a specific user\n",
        "        return f\"GET request for user {user_id}\" # Replace with actual logic\n",
        "    elif request.method == 'PUT':\n",
        "        # Handle PUT request to update a user\n",
        "        return f\"PUT request for user {user_id}\" # Replace with actual logic\n",
        "    elif request.method == 'DELETE':\n",
        "        # Handle DELETE request to remove a user\n",
        "        return f\"DELETE request for user {user_id}\" # Replace with actual logic\n",
        "\n",
        "if __name__ == '__main__':\n",
        "    app.run(debug=True)\n"
      ],
      "metadata": {
        "id": "RnVbWA7Q_UVK"
      },
      "execution_count": null,
      "outputs": []
    },
    {
      "cell_type": "code",
      "source": [
        "4. #How do you render HTML templates in Flask\n",
        "\n",
        "from flask import Flask, render_template\n",
        "\n",
        "app = Flask(__name__)\n",
        "\n",
        "# Example route that renders an HTML template\n",
        "@app.route('/template')\n",
        "def my_template():\n",
        "    # Pass data to the template (optional)\n",
        "    context = {'name': 'Alice', 'age': 30}\n",
        "    return render_template('my_template.html', **context)\n",
        "\n",
        "if __name__ == '__main__':\n",
        "    app.run(debug=True)\n"
      ],
      "metadata": {
        "id": "YUMI7IAE_vtV"
      },
      "execution_count": null,
      "outputs": []
    },
    {
      "cell_type": "code",
      "source": [
        "5. #How can you generate URLs for routes in Flask using url_for\n",
        "\n",
        "from flask import Flask, url_for\n",
        "\n",
        "app = Flask(__name__)\n",
        "\n",
        "@app.route('/')\n",
        "def index():\n",
        "    return 'Index Page'\n",
        "\n",
        "@app.route('/login')\n",
        "def login():\n",
        "    return 'Login Page'\n",
        "\n",
        "@app.route('/user/<username>')\n",
        "def profile(username):\n",
        "    return f'{username}\\'s profile'\n",
        "\n",
        "with app.test_request_context():\n",
        "    print(url_for('index'))\n",
        "    print(url_for('login'))\n",
        "    print(url_for('profile', username='John Doe'))\n",
        "    print(url_for('profile', username='John Doe', next='/'))\n"
      ],
      "metadata": {
        "id": "QMntaIqy_9kH"
      },
      "execution_count": null,
      "outputs": []
    },
    {
      "cell_type": "code",
      "source": [
        "6. #How do you handle forms in Flask\n",
        "\n",
        "from flask import Flask, request, render_template\n",
        "\n",
        "app = Flask(__name__)\n",
        "\n",
        "# Example form handling route\n",
        "@app.route('/submit_form', methods=['GET', 'POST'])\n",
        "def submit_form():\n",
        "    if request.method == 'POST':\n",
        "        # Access form data\n",
        "        name = request.form.get('name')\n",
        "        email = request.form.get('email')\n",
        "        # Process the form data (e.g., save to database)\n",
        "        return f\"Form submitted successfully! Name: {name}, Email: {email}\"\n",
        "    else:  # GET request (display the form)\n",
        "        return render_template('my_form.html')\n",
        "\n",
        "if __name__ == '__main__':\n",
        "    app.run(debug=True)\n"
      ],
      "metadata": {
        "id": "--jY1LBxALTY"
      },
      "execution_count": null,
      "outputs": []
    },
    {
      "cell_type": "code",
      "source": [
        "7.  #How can you validate form data in Flask\n",
        "\n",
        "from flask import Flask, request, render_template\n",
        "\n",
        "app = Flask(__name__)\n",
        "\n",
        "@app.route('/submit_form', methods=['GET', 'POST'])\n",
        "def submit_form():\n",
        "    if request.method == 'POST':\n",
        "        name = request.form.get('name')\n",
        "        email = request.form.get('email')\n",
        "\n",
        "        # Basic validation\n",
        "        errors = []\n",
        "        if not name:\n",
        "            errors.append(\"Name is required.\")\n",
        "        if not email:\n",
        "            errors.append(\"Email is required.\")\n",
        "        elif \"@\" not in email:  # Simple email check\n",
        "            errors.append(\"Invalid email format.\")\n",
        "\n",
        "        if errors:\n",
        "            return render_template('my_form.html', errors=errors, name=name, email=email)  # Redisplay form with errors\n",
        "\n",
        "        # Process valid data (e.g., save to a database)\n",
        "        return f\"Form submitted successfully! Name: {name}, Email: {email}\"\n",
        "    else:\n",
        "        return render_template('my_form.html')\n",
        "\n",
        "if __name__ == '__main__':\n",
        "    app.run(debug=True)\n"
      ],
      "metadata": {
        "id": "T-8tPhYiAWMF"
      },
      "execution_count": null,
      "outputs": []
    },
    {
      "cell_type": "code",
      "source": [
        "8. # How do you manage sessions in Flask\n",
        "\n",
        "from flask import Flask, session\n",
        "\n",
        "app = Flask(__name__)\n",
        "app.secret_key = \"your_secret_key\"  # Replace with a strong, randomly generated key\n",
        "\n",
        "@app.route('/')\n",
        "def index():\n",
        "    if 'username' in session:\n",
        "        return f'Logged in as {session[\"username\"]}'\n",
        "    return 'You are not logged in'\n",
        "\n",
        "@app.route('/login', methods=['GET', 'POST'])\n",
        "def login():\n",
        "    if request.method == 'POST':\n",
        "        session['username'] = request.form['username']\n",
        "        return 'Login successful!'\n",
        "    return '''\n",
        "        <form method=\"post\">\n",
        "            <p><input type=text name=username>\n",
        "            <p><input type=submit value=Login>\n",
        "        </form>\n",
        "    '''\n",
        "\n",
        "@app.route('/logout')\n",
        "def logout():\n",
        "    session.pop('username', None)\n",
        "    return 'Logged out'\n",
        "\n",
        "if __name__ == '__main__':\n",
        "    app.run(debug=True)\n"
      ],
      "metadata": {
        "id": "xtGhTKgfAiRK"
      },
      "execution_count": null,
      "outputs": []
    },
    {
      "cell_type": "code",
      "source": [
        "9. #How do you redirect to a different route in Flask\n",
        "\n",
        "from flask import Flask, redirect, url_for\n",
        "\n",
        "app = Flask(__name__)\n",
        "\n",
        "@app.route('/')\n",
        "def index():\n",
        "    return redirect(url_for('about'))\n",
        "\n",
        "@app.route('/about')\n",
        "def about():\n",
        "    return 'This is the about page.'\n",
        "\n",
        "if __name__ == '__main__':\n",
        "    app.run(debug=True)\n"
      ],
      "metadata": {
        "id": "qrG2UJ0vAt4a"
      },
      "execution_count": null,
      "outputs": []
    },
    {
      "cell_type": "code",
      "source": [
        "10. #How do you handle errors in Flask (e.g., 404)\n",
        "\n",
        "from flask import Flask, render_template\n",
        "\n",
        "app = Flask(__name__)\n",
        "\n",
        "# Error handler for 404 errors\n",
        "@app.errorhandler(404)\n",
        "def page_not_found(error):\n",
        "    return render_template('404.html'), 404\n",
        "\n",
        "# Example route that might cause a 404\n",
        "@app.route('/nonexistent_page')\n",
        "def nonexistent_page():\n",
        "    return render_template('page.html'), 404\n",
        "\n",
        "# Example route that redirects to the 404 page\n",
        "@app.route('/redirect_to_404')\n",
        "def redirect_to_404():\n",
        "  return render_template('page.html'), 404\n",
        "\n",
        "if __name__ == '__main__':\n",
        "    app.run(debug=True)\n"
      ],
      "metadata": {
        "id": "B0IGeUpdA4w4"
      },
      "execution_count": null,
      "outputs": []
    },
    {
      "cell_type": "code",
      "source": [
        "11. #How do you structure a Flask app using Blueprints\n",
        "\n",
        "from flask import Flask, Blueprint\n",
        "\n",
        "# Create a Blueprint\n",
        "main = Blueprint('main', __name__)\n",
        "\n",
        "# Define routes within the Blueprint\n",
        "@main.route('/')\n",
        "def index():\n",
        "    return \"This is the main index page\"\n",
        "\n",
        "@main.route('/about')\n",
        "def about():\n",
        "    return \"This is the about page\"\n",
        "\n",
        "# Create the Flask app\n",
        "app = Flask(__name__)\n",
        "\n",
        "# Register the Blueprint\n",
        "app.register_blueprint(main)\n",
        "\n",
        "if __name__ == '__main__':\n",
        "  app.run(debug=True)\n"
      ],
      "metadata": {
        "id": "InQ-Xxo0BE8w"
      },
      "execution_count": null,
      "outputs": []
    },
    {
      "cell_type": "code",
      "source": [
        "12. #How do you define a custom Jinja filter in Flask\n",
        "\n",
        "from flask import Flask, render_template\n",
        "\n",
        "app = Flask(__name__)\n",
        "\n",
        "# Define a custom Jinja filter\n",
        "@app.template_filter('reverse_string')\n",
        "def reverse_filter(s):\n",
        "    return s[::-1]\n",
        "\n",
        "@app.route('/')\n",
        "def index():\n",
        "    my_string = \"Hello, World!\"\n",
        "    return render_template('index.html', my_string=my_string)\n",
        "\n",
        "if __name__ == '__main__':\n",
        "    app.run(debug=True)\n"
      ],
      "metadata": {
        "id": "B3eNEJDDBQqL"
      },
      "execution_count": null,
      "outputs": []
    },
    {
      "cell_type": "code",
      "source": [
        "13. #How can you redirect with query parameters in Flask\n",
        "\n",
        "from flask import Flask, redirect, url_for\n",
        "\n",
        "app = Flask(__name__)\n",
        "\n",
        "@app.route('/')\n",
        "def index():\n",
        "    return redirect(url_for('target', param1='value1', param2='value2'))\n",
        "\n",
        "@app.route('/target')\n",
        "def target():\n",
        "    param1 = request.args.get('param1')\n",
        "    param2 = request.args.get('param2')\n",
        "    return f\"Redirected with params: param1={param1}, param2={param2}\"\n",
        "\n",
        "if __name__ == '__main__':\n",
        "    app.run(debug=True)\n"
      ],
      "metadata": {
        "id": "kQV8t9UVBeHH"
      },
      "execution_count": null,
      "outputs": []
    },
    {
      "cell_type": "code",
      "source": [
        "14. #How do you return JSON responses in Flask\n",
        "\n",
        "from flask import Flask, jsonify\n",
        "\n",
        "app = Flask(__name__)\n",
        "\n",
        "@app.route('/api/data')\n",
        "def get_data():\n",
        "    data = {'message': 'This is JSON response from a Flask API', 'key': 'value'}\n",
        "    return jsonify(data)\n",
        "\n",
        "if __name__ == '__main__':\n",
        "    app.run(debug=True)\n"
      ],
      "metadata": {
        "id": "4TvMl1PJBocV"
      },
      "execution_count": null,
      "outputs": []
    },
    {
      "cell_type": "code",
      "source": [
        "15. #How do you capture URL parameters in Flask?\n",
        "\n",
        "from flask import Flask, request\n",
        "\n",
        "app = Flask(__name__)\n",
        "\n",
        "@app.route('/<path:path>')  # Capture URL parameters in a path variable\n",
        "def catch_all(path):\n",
        "  parameters = request.args  # Access URL parameters through request.args\n",
        "  return f\"Path: {path}\\nParameters: {parameters}\"\n",
        "\n",
        "if __name__ == \"__main__\":\n",
        "  app.run(debug=True)\n"
      ],
      "metadata": {
        "id": "ke7V5j4lByao"
      },
      "execution_count": null,
      "outputs": []
    }
  ]
}